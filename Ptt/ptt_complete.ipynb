{
 "cells": [
  {
   "cell_type": "code",
   "execution_count": 7,
   "metadata": {},
   "outputs": [
    {
     "name": "stdout",
     "output_type": "stream",
     "text": [
      "Defaulting to user installation because normal site-packages is not writeable\n",
      "Requirement already satisfied: jieba in /home/students/dlee008/.local/lib/python3.8/site-packages (0.42.1)\n",
      "Note: you may need to restart the kernel to use updated packages.\n"
     ]
    }
   ],
   "source": [
    "pip install jieba"
   ]
  },
  {
   "cell_type": "code",
   "execution_count": 8,
   "metadata": {},
   "outputs": [
    {
     "name": "stdout",
     "output_type": "stream",
     "text": [
      "ID: generalfungi (香菇將軍)\n",
      "看板: movie\n",
      "標題: [無雷] 難看又無趣的金手指\n",
      "時間: Thu Jan  4 23:53:50 2024\n",
      "score 35\n",
      "\n",
      "\n",
      "優點：\n",
      "\n",
      "梁朝偉的演技非常好\n",
      "\n",
      "場布很厲害，好幾幕的佈景非常金碧輝煌，真正見識到什麼叫做真土豪，有大開眼界到\n",
      "\n",
      "\n",
      "缺點：\n",
      "\n",
      "浪費一大堆大咖演員，尤其是劉德華不知道在幹什麼，不能說演不好，就毫無亮點的表演，換成任何一位八點檔演員都可以\n",
      "\n",
      "想模仿華爾街之狼，但主軸不明確，節奏緩慢又無聊，中間插了一些奇奇怪怪的人\n",
      "\n",
      "結局了無心意，應該又受到了上面的審查\n",
      "\n",
      "真的是蠻難看的一部片\n",
      "\n",
      "\n",
      "評分：5.7/10\n",
      "\n",
      "還有阿sa怎麼那麼大！？\n",
      "\n",
      "\n",
      "\n",
      "\n",
      "\n",
      "-----\n",
      "Sent from JPTT on my Google Pixel 6a.\n",
      "\n",
      "--\n",
      "※ 發信站: 批踢踢實業坊(ptt.cc), 來自: 223.136.81.13 (臺灣)\n",
      "※ 文章網址: https://www.ptt.cc/bbs/movie/M.1704383635.A.5DE.html\n",
      "\n",
      "keywords ['ptt', 'cc', '優點', '偉的', '場布', '厲害', '幾幕', '輝煌', '見識', '什麼']\n"
     ]
    }
   ],
   "source": [
    "from bs4 import BeautifulSoup\n",
    "from jieba.analyse import extract_tags\n",
    "import requests\n",
    "import ssl\n",
    "ssl._create_default_https_context = ssl._create_unverified_context\n",
    " \n",
    "\n",
    "url = \"https://www.ptt.cc/bbs/movie/M.1704383635.A.5DE.html\"\n",
    "resp = requests.get(url)\n",
    "html = BeautifulSoup(resp.text)\n",
    "# print(html)\n",
    "\n",
    "content = html.find(\"div\", id=\"main-content\")\n",
    "metas = content.find_all(\"span\", class_ =\"article-meta-value\")\n",
    "print(\"ID:\", metas[0].text)\n",
    "print(\"看板:\", metas[1].text)\n",
    "print(\"標題:\", metas[2].text)\n",
    "print(\"時間:\", metas[3].text)\n",
    "\n",
    "\n",
    "ms = content.find_all(\"div\", class_=\"article-metaline\")\n",
    "for m in ms:\n",
    "    m.extract()\n",
    "    \n",
    "ms = content.find_all(\"div\", class_=\"article-metaline-right\")\n",
    "for m in ms:\n",
    "    m.extract()\n",
    "    \n",
    "pushes = content.find_all(\"div\", class_=\"push\")\n",
    "score = 0\n",
    "for p in pushes:\n",
    "    tag = p.find(\"span\", class_=\"push-tag\").text\n",
    "    if \"推\" in tag:\n",
    "        score = score + 1 \n",
    "    elif \"噓\" in tag:\n",
    "        score = score - 1\n",
    "    p.extract()\n",
    "print(\"score\", score)\n",
    "print(content.text)\n",
    "print(\"keywords\", extract_tags(content.text, 10))"
   ]
  },
  {
   "cell_type": "code",
   "execution_count": null,
   "metadata": {},
   "outputs": [],
   "source": []
  }
 ],
 "metadata": {
  "kernelspec": {
   "display_name": "Python 3",
   "language": "python",
   "name": "python3"
  },
  "language_info": {
   "codemirror_mode": {
    "name": "ipython",
    "version": 3
   },
   "file_extension": ".py",
   "mimetype": "text/x-python",
   "name": "python",
   "nbconvert_exporter": "python",
   "pygments_lexer": "ipython3",
   "version": "3.8.3"
  }
 },
 "nbformat": 4,
 "nbformat_minor": 4
}
