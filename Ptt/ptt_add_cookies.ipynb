{
 "cells": [
  {
   "cell_type": "code",
   "execution_count": 4,
   "metadata": {},
   "outputs": [
    {
     "name": "stdout",
     "output_type": "stream",
     "text": [
      "ID: kuenjang (kuenjang)\n",
      "看板: Gossiping\n",
      "標題: [問卦] 總統選舉人數\n",
      "時間: Fri Jan 12 22:21:22 2024\n",
      "score 79\n",
      "\n",
      "\n",
      "\n",
      " 2024總統選舉人數   | 19,548,531\n",
      "+------------------------+--------------+----------+\n",
      "|      年齡層           | 人數（萬人） | 百分比   |\n",
      "+------------------------+--------------+----------+\n",
      "|      20至29歲         | 2,849,229    | 14.58%   |\n",
      "|      30至39歲         | 3,229,209    | 16.51%   |\n",
      "|      40至49歲         | 3,885,393    | 19.88%   |\n",
      "|      50至59歲         | 3,531,252    | 18.06%   |\n",
      "|      60至99歲         | 6,053,448    | 30.93%\n",
      "\n",
      "--\n",
      "※ 發信站: 批踢踢實業坊(ptt.cc), 來自: 1.174.201.212 (臺灣)\n",
      "※ 文章網址: https://www.ptt.cc/bbs/Gossiping/M.1705069284.A.02F.html\n",
      "\n",
      "keywords ['人數', '531', '+------------------------+--------------+----------+', '229', 'ptt', 'cc', '2024', '總統', '選舉', '19']\n"
     ]
    }
   ],
   "source": [
    "from bs4 import BeautifulSoup\n",
    "from jieba.analyse import extract_tags\n",
    "import requests\n",
    "import ssl\n",
    "ssl._create_default_https_context = ssl._create_unverified_context\n",
    " \n",
    "\n",
    "url = \"https://www.ptt.cc/bbs/Gossiping/M.1705069284.A.02F.html\"\n",
    "resp = requests.get(url, cookies={\"over18\":\"1\"})\n",
    "html = BeautifulSoup(resp.text)\n",
    "# print(html)\n",
    "\n",
    "content = html.find(\"div\", id=\"main-content\")\n",
    "metas = content.find_all(\"span\", class_ =\"article-meta-value\")\n",
    "print(\"ID:\", metas[0].text)\n",
    "print(\"看板:\", metas[1].text)\n",
    "print(\"標題:\", metas[2].text)\n",
    "print(\"時間:\", metas[3].text)\n",
    "\n",
    "\n",
    "ms = content.find_all(\"div\", class_=\"article-metaline\")\n",
    "for m in ms:\n",
    "    m.extract()\n",
    "    \n",
    "ms = content.find_all(\"div\", class_=\"article-metaline-right\")\n",
    "for m in ms:\n",
    "    m.extract()\n",
    "    \n",
    "pushes = content.find_all(\"div\", class_=\"push\")\n",
    "score = 0\n",
    "for p in pushes:\n",
    "    tag = p.find(\"span\", class_=\"push-tag\").text\n",
    "    if \"推\" in tag:\n",
    "        score = score + 1 \n",
    "    elif \"噓\" in tag:\n",
    "        score = score - 1\n",
    "    p.extract()\n",
    "print(\"score\", score)\n",
    "print(content.text)\n",
    "print(\"keywords\", extract_tags(content.text, 10))"
   ]
  },
  {
   "cell_type": "code",
   "execution_count": null,
   "metadata": {},
   "outputs": [],
   "source": []
  }
 ],
 "metadata": {
  "kernelspec": {
   "display_name": "Python 3",
   "language": "python",
   "name": "python3"
  },
  "language_info": {
   "codemirror_mode": {
    "name": "ipython",
    "version": 3
   },
   "file_extension": ".py",
   "mimetype": "text/x-python",
   "name": "python",
   "nbconvert_exporter": "python",
   "pygments_lexer": "ipython3",
   "version": "3.8.3"
  }
 },
 "nbformat": 4,
 "nbformat_minor": 4
}
