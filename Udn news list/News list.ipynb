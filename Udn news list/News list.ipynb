{
 "cells": [
  {
   "cell_type": "code",
   "execution_count": 2,
   "metadata": {},
   "outputs": [
    {
     "name": "stdout",
     "output_type": "stream",
     "text": [
      "page: 0\n",
      "任天堂免費替能登半島災民維修主機：日本震災時，電玩主機的防災妙用？ https://udn.com/news/story/6809/7715585?from=udn-catebreaknews_ch2\n",
      "31歲全球最長壽狗狗遭疑年齡造假！金氏紀錄喊查：撤銷頭銜 https://udn.com/news/story/6812/7715514?from=udn-catebreaknews_ch2\n",
      "日經：中國真正惡夢是賴川組合 賴清德恐面臨北京更大施壓 https://udn.com/news/story/6813/7715459?from=udn-catebreaknews_ch2\n",
      "挪威才喊卡 丹麥也停止從台菲泰等6國領養小孩 https://udn.com/news/story/6809/7715222?from=udn-catebreaknews_ch2\n",
      "澤倫斯基籲西方續援 稱普亭掠食者不會停止侵烏 https://udn.com/news/story/6809/7715285?from=udn-catebreaknews_ch2\n",
      "馬克宏宣布多項新措施 力圖提振聲望 https://udn.com/news/story/6809/7715429?from=udn-catebreaknews_ch2\n",
      "--------------\n",
      "page: 1\n",
      "行李轉盤驚見鯛魚頭、味噌豬排！ 日本機場意圖使人流口水「想飛過去看」 https://udn.com/news/story/6810/7715366?from=udn-catebreaknews_ch2\n",
      "美國遠端會計師職缺激增 在家工作年薪可逾台幣300萬 https://udn.com/news/story/6811/7715328?from=udn-catebreaknews_ch2\n",
      "搭機根本沒最安全位置 保命關鍵：聽空服員的話 https://udn.com/news/story/6812/7706478?from=udn-catebreaknews_ch2\n",
      "攝影師貼能登半島地震前後「海岸對比照」 見證地表隆起：騙人的吧！ https://udn.com/news/story/6812/7715202?from=udn-catebreaknews_ch2\n",
      "傳北韓火車7節車廂墜山谷釀400死！ 遺體多到成立工作小組 https://udn.com/news/story/6809/7715301?from=udn-catebreaknews_ch2\n",
      "婚禮派對舞會上突塌陷成大洞 新郎新娘與賓客直墜一樓 https://udn.com/news/story/6812/7715206?from=udn-catebreaknews_ch2\n",
      "--------------\n",
      "page: 2\n",
      "又一艘散裝輪在紅海遇襲 美準備將胡塞重列為恐怖組織 https://udn.com/news/story/6811/7715254?from=udn-catebreaknews_ch2\n",
      "日本自民黨專案小組談大選結果 關注「台灣有事」 https://udn.com/news/story/6809/7715153?from=udn-catebreaknews_ch2\n",
      "國安考量 加拿大停止資助與中伊俄有關研究人員 https://udn.com/news/story/6809/7715132?from=udn-catebreaknews_ch2\n",
      "紅海海運受阻 空運費率看漲 預計未來兩三周就會走高 https://udn.com/news/story/6811/7715148?from=udn-catebreaknews_ch2\n",
      "77歲川普健康狀況罕受關注！醫生警告：滿臉倦容、路也走不穩 https://udn.com/news/story/6813/7715117?from=udn-catebreaknews_ch2\n",
      "卡達法國促成以哈協議 將送藥品給加薩人質平民 https://udn.com/news/story/123777/7715054?from=udn-catebreaknews_ch2\n",
      "--------------\n",
      "page: 3\n",
      "歐盟國家批准紅海任務 防船隻遭葉門叛軍攻擊 https://udn.com/news/story/6809/7715057?from=udn-catebreaknews_ch2\n",
      "美軍截獲伊朗援青年運動軍事物資 行動釀2海豹隊員落海、生死未卜 https://udn.com/news/story/6809/7715104?from=udn-catebreaknews_ch2\n",
      "12歲兒拒做家事！媽怒拿廚刀狂斬 他負傷逃去鄰居家求救 https://udn.com/news/story/6810/7715067?from=udn-catebreaknews_ch2\n",
      "沉睡800年後再度噴發、熔岩侵入城鎮：冰島人如何面對火山甦醒？ https://udn.com/news/story/6812/7715073?from=udn-catebreaknews_ch2\n",
      "「經濟學家的良心」：諾獎得主沈恩關注窮人、博雅學習的一生 https://udn.com/news/story/6811/7715066?from=udn-catebreaknews_ch2\n",
      "青年運動頻襲商船惹事 拜登政府擬重列全球特定恐怖分子 https://udn.com/news/story/6809/7714997?from=udn-catebreaknews_ch2\n",
      "--------------\n",
      "page: 4\n",
      "俄烏戰爭若繼續打 普亭：烏克蘭國家地位將面臨風險 https://udn.com/news/story/122663/7714977?from=udn-catebreaknews_ch2\n",
      "美軍第3度發動攻擊！青年運動發射飛彈擊中希臘貨輪 https://udn.com/news/story/6809/7714967?from=udn-catebreaknews_ch2\n",
      "以巴衝突外溢？伊朗空襲巴基斯坦遜尼派軍事基地 釀2童死、3人傷 https://udn.com/news/story/123777/7714964?from=udn-catebreaknews_ch2\n",
      "滅門血案塑造了她 孟加拉總理哈希納轉向反民主之路 https://udn.com/news/story/6809/7706862?from=udn-catebreaknews_ch2\n",
      "韓國「狗肉禁令」爭論半世紀終於通過！韓年輕世代：狗是寵物不是食物 https://udn.com/news/story/6812/7713659?from=udn-catebreaknews_ch2\n",
      "道瓊跌231點率美股下跌 華爾街收斂對Fed降息押注 https://udn.com/news/story/6811/7714927?from=udn-catebreaknews_ch2\n",
      "--------------\n",
      "page: 5\n",
      "台灣大選後接受美媒專訪 布林肯強調台海和平穩定 https://udn.com/news/story/6813/7714869?from=udn-catebreaknews_ch2\n",
      "10年期美債殖利率重登4% 道指跌逾230點 https://udn.com/news/story/6811/7714881?from=udn-catebreaknews_ch2\n",
      "紅海危機 恐助燃通膨 https://udn.com/news/story/6811/7714653?from=udn-catebreaknews_ch2\n",
      "IMF：全球經濟今年順風 https://udn.com/news/story/6811/7714533?from=udn-catebreaknews_ch2\n",
      "鈾價大漲 飆至17年新高 https://udn.com/news/story/6811/7714534?from=udn-catebreaknews_ch2\n",
      "Fed降息預期鬆動 美元彈升 https://udn.com/news/story/6811/7714523?from=udn-catebreaknews_ch2\n",
      "--------------\n",
      "page: 6\n",
      "景氣不明 亞洲房產賣家變多 https://udn.com/news/story/6811/7714522?from=udn-catebreaknews_ch2\n",
      "資誠全球調查 CEO預期：生成式AI導致今年裁員5% https://udn.com/news/story/6811/7714671?from=udn-catebreaknews_ch2\n",
      "Fed理事沃勒：美國達成2%通膨目標 已「近在咫尺」 https://udn.com/news/story/6811/7714804?from=udn-catebreaknews_ch2\n",
      "新思大併購 規模350億美元 https://udn.com/news/story/6811/7714535?from=udn-catebreaknews_ch2\n",
      "優於預期 高盛上季淨利勁揚51% https://udn.com/news/story/6811/7714540?from=udn-catebreaknews_ch2\n",
      "蘋果手機出貨 超越三星 https://udn.com/news/story/6811/7714541?from=udn-catebreaknews_ch2\n",
      "--------------\n",
      "page: 7\n",
      "挪威主權基金報酬率不妙 https://udn.com/news/story/6811/7714524?from=udn-catebreaknews_ch2\n",
      "Northvolt融資50億美元 瑞典電池新創大擴產 https://udn.com/news/story/6811/7714542?from=udn-catebreaknews_ch2\n",
      "憂川普重新主政 南韓傳提前談軍費分攤 https://udn.com/news/story/6813/7714718?from=udn-catebreaknews_ch2\n",
      "愛州初選大勝 川普馬上喊團結 https://udn.com/news/story/6813/7714715?from=udn-catebreaknews_ch2\n",
      "美國防部長出院 還無法出門上班 https://udn.com/news/story/6813/7714720?from=udn-catebreaknews_ch2\n",
      "專家解讀／北韓欲排除南韓 與美直接交涉 https://udn.com/news/story/6809/7714709?from=udn-catebreaknews_ch2\n",
      "--------------\n"
     ]
    }
   ],
   "source": [
    "import requests\n",
    "import json\n",
    "import ssl\n",
    "ssl._create_default_https_context = ssl._create_unverified_context\n",
    "\n",
    "for p in range(8):\n",
    "    url = \"https://udn.com/api/more\"\n",
    "    params = {\"page\": str(p), \"channelId\":2 ,\"type\": \"cate_latest_news\", \"cate_id\":7225, \"totalRecNo\":137}\n",
    "    resp = requests.get(url, params=params)\n",
    "    # print(resp)\n",
    "    \n",
    "    news = json.loads(resp.text)\n",
    "    print(\"page:\", p)\n",
    "    for n in news['lists']:\n",
    "        url = \"https://udn.com\" + n['titleLink']\n",
    "        print(n['title'], url)\n",
    "    print(\"--------------\")"
   ]
  },
  {
   "cell_type": "code",
   "execution_count": null,
   "metadata": {},
   "outputs": [],
   "source": []
  }
 ],
 "metadata": {
  "kernelspec": {
   "display_name": "Python 3",
   "language": "python",
   "name": "python3"
  },
  "language_info": {
   "codemirror_mode": {
    "name": "ipython",
    "version": 3
   },
   "file_extension": ".py",
   "mimetype": "text/x-python",
   "name": "python",
   "nbconvert_exporter": "python",
   "pygments_lexer": "ipython3",
   "version": "3.8.3"
  }
 },
 "nbformat": 4,
 "nbformat_minor": 4
}
